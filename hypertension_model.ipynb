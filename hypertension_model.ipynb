{
 "cells": [
  {
   "cell_type": "code",
   "execution_count": 5,
   "metadata": {},
   "outputs": [],
   "source": [
    "import numpy as np\n",
    "import pandas as pd\n",
    "import matplotlib.pyplot as plt\n",
    "%matplotlib inline\n",
    "from sklearn.metrics import confusion_matrix\n",
    "from sklearn.metrics import accuracy_score\n",
    "from sklearn.metrics import precision_score\n",
    "from sklearn.metrics import recall_score\n",
    "from sklearn.metrics import f1_score\n"
   ]
  },
  {
   "cell_type": "code",
   "execution_count": 6,
   "metadata": {},
   "outputs": [
    {
     "data": {
      "text/html": [
       "<div>\n",
       "<style scoped>\n",
       "    .dataframe tbody tr th:only-of-type {\n",
       "        vertical-align: middle;\n",
       "    }\n",
       "\n",
       "    .dataframe tbody tr th {\n",
       "        vertical-align: top;\n",
       "    }\n",
       "\n",
       "    .dataframe thead th {\n",
       "        text-align: right;\n",
       "    }\n",
       "</style>\n",
       "<table border=\"1\" class=\"dataframe\">\n",
       "  <thead>\n",
       "    <tr style=\"text-align: right;\">\n",
       "      <th></th>\n",
       "      <th>male</th>\n",
       "      <th>age</th>\n",
       "      <th>currentSmoker</th>\n",
       "      <th>cigsPerDay</th>\n",
       "      <th>BPMeds</th>\n",
       "      <th>diabetes</th>\n",
       "      <th>totChol</th>\n",
       "      <th>sysBP</th>\n",
       "      <th>diaBP</th>\n",
       "      <th>BMI</th>\n",
       "      <th>heartRate</th>\n",
       "      <th>glucose</th>\n",
       "      <th>Risk</th>\n",
       "    </tr>\n",
       "  </thead>\n",
       "  <tbody>\n",
       "    <tr>\n",
       "      <th>0</th>\n",
       "      <td>1</td>\n",
       "      <td>39</td>\n",
       "      <td>0</td>\n",
       "      <td>0.0</td>\n",
       "      <td>0.0</td>\n",
       "      <td>0</td>\n",
       "      <td>195.0</td>\n",
       "      <td>106.0</td>\n",
       "      <td>70.0</td>\n",
       "      <td>26.97</td>\n",
       "      <td>80.0</td>\n",
       "      <td>77.0</td>\n",
       "      <td>0</td>\n",
       "    </tr>\n",
       "    <tr>\n",
       "      <th>1</th>\n",
       "      <td>0</td>\n",
       "      <td>46</td>\n",
       "      <td>0</td>\n",
       "      <td>0.0</td>\n",
       "      <td>0.0</td>\n",
       "      <td>0</td>\n",
       "      <td>250.0</td>\n",
       "      <td>121.0</td>\n",
       "      <td>81.0</td>\n",
       "      <td>28.73</td>\n",
       "      <td>95.0</td>\n",
       "      <td>76.0</td>\n",
       "      <td>0</td>\n",
       "    </tr>\n",
       "    <tr>\n",
       "      <th>2</th>\n",
       "      <td>1</td>\n",
       "      <td>48</td>\n",
       "      <td>1</td>\n",
       "      <td>20.0</td>\n",
       "      <td>0.0</td>\n",
       "      <td>0</td>\n",
       "      <td>245.0</td>\n",
       "      <td>127.5</td>\n",
       "      <td>80.0</td>\n",
       "      <td>25.34</td>\n",
       "      <td>75.0</td>\n",
       "      <td>70.0</td>\n",
       "      <td>0</td>\n",
       "    </tr>\n",
       "    <tr>\n",
       "      <th>3</th>\n",
       "      <td>0</td>\n",
       "      <td>61</td>\n",
       "      <td>1</td>\n",
       "      <td>30.0</td>\n",
       "      <td>0.0</td>\n",
       "      <td>0</td>\n",
       "      <td>225.0</td>\n",
       "      <td>150.0</td>\n",
       "      <td>95.0</td>\n",
       "      <td>28.58</td>\n",
       "      <td>65.0</td>\n",
       "      <td>103.0</td>\n",
       "      <td>1</td>\n",
       "    </tr>\n",
       "    <tr>\n",
       "      <th>4</th>\n",
       "      <td>0</td>\n",
       "      <td>46</td>\n",
       "      <td>1</td>\n",
       "      <td>23.0</td>\n",
       "      <td>0.0</td>\n",
       "      <td>0</td>\n",
       "      <td>285.0</td>\n",
       "      <td>130.0</td>\n",
       "      <td>84.0</td>\n",
       "      <td>23.10</td>\n",
       "      <td>85.0</td>\n",
       "      <td>85.0</td>\n",
       "      <td>0</td>\n",
       "    </tr>\n",
       "  </tbody>\n",
       "</table>\n",
       "</div>"
      ],
      "text/plain": [
       "   male  age  currentSmoker  cigsPerDay  BPMeds  diabetes  totChol  sysBP  \\\n",
       "0     1   39              0         0.0     0.0         0    195.0  106.0   \n",
       "1     0   46              0         0.0     0.0         0    250.0  121.0   \n",
       "2     1   48              1        20.0     0.0         0    245.0  127.5   \n",
       "3     0   61              1        30.0     0.0         0    225.0  150.0   \n",
       "4     0   46              1        23.0     0.0         0    285.0  130.0   \n",
       "\n",
       "   diaBP    BMI  heartRate  glucose  Risk  \n",
       "0   70.0  26.97       80.0     77.0     0  \n",
       "1   81.0  28.73       95.0     76.0     0  \n",
       "2   80.0  25.34       75.0     70.0     0  \n",
       "3   95.0  28.58       65.0    103.0     1  \n",
       "4   84.0  23.10       85.0     85.0     0  "
      ]
     },
     "execution_count": 6,
     "metadata": {},
     "output_type": "execute_result"
    }
   ],
   "source": [
    "dataframe = pd.read_csv('./dataset/Hypertension-risk-model-main.csv')\n",
    "dataframe.head()\n"
   ]
  },
  {
   "cell_type": "code",
   "execution_count": 4,
   "metadata": {},
   "outputs": [
    {
     "data": {
      "text/html": [
       "<div>\n",
       "<style scoped>\n",
       "    .dataframe tbody tr th:only-of-type {\n",
       "        vertical-align: middle;\n",
       "    }\n",
       "\n",
       "    .dataframe tbody tr th {\n",
       "        vertical-align: top;\n",
       "    }\n",
       "\n",
       "    .dataframe thead th {\n",
       "        text-align: right;\n",
       "    }\n",
       "</style>\n",
       "<table border=\"1\" class=\"dataframe\">\n",
       "  <thead>\n",
       "    <tr style=\"text-align: right;\">\n",
       "      <th></th>\n",
       "      <th>male</th>\n",
       "      <th>age</th>\n",
       "      <th>currentSmoker</th>\n",
       "      <th>cigsPerDay</th>\n",
       "      <th>BPMeds</th>\n",
       "      <th>diabetes</th>\n",
       "      <th>totChol</th>\n",
       "      <th>sysBP</th>\n",
       "      <th>diaBP</th>\n",
       "      <th>BMI</th>\n",
       "      <th>heartRate</th>\n",
       "      <th>glucose</th>\n",
       "      <th>Risk</th>\n",
       "    </tr>\n",
       "  </thead>\n",
       "  <tbody>\n",
       "    <tr>\n",
       "      <th>count</th>\n",
       "      <td>4240.000000</td>\n",
       "      <td>4240.000000</td>\n",
       "      <td>4240.000000</td>\n",
       "      <td>4211.000000</td>\n",
       "      <td>4187.000000</td>\n",
       "      <td>4240.000000</td>\n",
       "      <td>4190.000000</td>\n",
       "      <td>4240.000000</td>\n",
       "      <td>4240.000000</td>\n",
       "      <td>4221.000000</td>\n",
       "      <td>4239.000000</td>\n",
       "      <td>3852.000000</td>\n",
       "      <td>4240.000000</td>\n",
       "    </tr>\n",
       "    <tr>\n",
       "      <th>mean</th>\n",
       "      <td>0.429245</td>\n",
       "      <td>49.580189</td>\n",
       "      <td>0.494104</td>\n",
       "      <td>9.005937</td>\n",
       "      <td>0.029615</td>\n",
       "      <td>0.025708</td>\n",
       "      <td>236.699523</td>\n",
       "      <td>132.354599</td>\n",
       "      <td>82.897759</td>\n",
       "      <td>25.800801</td>\n",
       "      <td>75.878981</td>\n",
       "      <td>81.963655</td>\n",
       "      <td>0.310613</td>\n",
       "    </tr>\n",
       "    <tr>\n",
       "      <th>std</th>\n",
       "      <td>0.495027</td>\n",
       "      <td>8.572942</td>\n",
       "      <td>0.500024</td>\n",
       "      <td>11.922462</td>\n",
       "      <td>0.169544</td>\n",
       "      <td>0.158280</td>\n",
       "      <td>44.591284</td>\n",
       "      <td>22.033300</td>\n",
       "      <td>11.910394</td>\n",
       "      <td>4.079840</td>\n",
       "      <td>12.025348</td>\n",
       "      <td>23.954335</td>\n",
       "      <td>0.462799</td>\n",
       "    </tr>\n",
       "    <tr>\n",
       "      <th>min</th>\n",
       "      <td>0.000000</td>\n",
       "      <td>32.000000</td>\n",
       "      <td>0.000000</td>\n",
       "      <td>0.000000</td>\n",
       "      <td>0.000000</td>\n",
       "      <td>0.000000</td>\n",
       "      <td>107.000000</td>\n",
       "      <td>83.500000</td>\n",
       "      <td>48.000000</td>\n",
       "      <td>15.540000</td>\n",
       "      <td>44.000000</td>\n",
       "      <td>40.000000</td>\n",
       "      <td>0.000000</td>\n",
       "    </tr>\n",
       "    <tr>\n",
       "      <th>25%</th>\n",
       "      <td>0.000000</td>\n",
       "      <td>42.000000</td>\n",
       "      <td>0.000000</td>\n",
       "      <td>0.000000</td>\n",
       "      <td>0.000000</td>\n",
       "      <td>0.000000</td>\n",
       "      <td>206.000000</td>\n",
       "      <td>117.000000</td>\n",
       "      <td>75.000000</td>\n",
       "      <td>23.070000</td>\n",
       "      <td>68.000000</td>\n",
       "      <td>71.000000</td>\n",
       "      <td>0.000000</td>\n",
       "    </tr>\n",
       "    <tr>\n",
       "      <th>50%</th>\n",
       "      <td>0.000000</td>\n",
       "      <td>49.000000</td>\n",
       "      <td>0.000000</td>\n",
       "      <td>0.000000</td>\n",
       "      <td>0.000000</td>\n",
       "      <td>0.000000</td>\n",
       "      <td>234.000000</td>\n",
       "      <td>128.000000</td>\n",
       "      <td>82.000000</td>\n",
       "      <td>25.400000</td>\n",
       "      <td>75.000000</td>\n",
       "      <td>78.000000</td>\n",
       "      <td>0.000000</td>\n",
       "    </tr>\n",
       "    <tr>\n",
       "      <th>75%</th>\n",
       "      <td>1.000000</td>\n",
       "      <td>56.000000</td>\n",
       "      <td>1.000000</td>\n",
       "      <td>20.000000</td>\n",
       "      <td>0.000000</td>\n",
       "      <td>0.000000</td>\n",
       "      <td>263.000000</td>\n",
       "      <td>144.000000</td>\n",
       "      <td>90.000000</td>\n",
       "      <td>28.040000</td>\n",
       "      <td>83.000000</td>\n",
       "      <td>87.000000</td>\n",
       "      <td>1.000000</td>\n",
       "    </tr>\n",
       "    <tr>\n",
       "      <th>max</th>\n",
       "      <td>1.000000</td>\n",
       "      <td>70.000000</td>\n",
       "      <td>1.000000</td>\n",
       "      <td>70.000000</td>\n",
       "      <td>1.000000</td>\n",
       "      <td>1.000000</td>\n",
       "      <td>696.000000</td>\n",
       "      <td>295.000000</td>\n",
       "      <td>142.500000</td>\n",
       "      <td>56.800000</td>\n",
       "      <td>143.000000</td>\n",
       "      <td>394.000000</td>\n",
       "      <td>1.000000</td>\n",
       "    </tr>\n",
       "  </tbody>\n",
       "</table>\n",
       "</div>"
      ],
      "text/plain": [
       "              male          age  currentSmoker   cigsPerDay       BPMeds  \\\n",
       "count  4240.000000  4240.000000    4240.000000  4211.000000  4187.000000   \n",
       "mean      0.429245    49.580189       0.494104     9.005937     0.029615   \n",
       "std       0.495027     8.572942       0.500024    11.922462     0.169544   \n",
       "min       0.000000    32.000000       0.000000     0.000000     0.000000   \n",
       "25%       0.000000    42.000000       0.000000     0.000000     0.000000   \n",
       "50%       0.000000    49.000000       0.000000     0.000000     0.000000   \n",
       "75%       1.000000    56.000000       1.000000    20.000000     0.000000   \n",
       "max       1.000000    70.000000       1.000000    70.000000     1.000000   \n",
       "\n",
       "          diabetes      totChol        sysBP        diaBP          BMI  \\\n",
       "count  4240.000000  4190.000000  4240.000000  4240.000000  4221.000000   \n",
       "mean      0.025708   236.699523   132.354599    82.897759    25.800801   \n",
       "std       0.158280    44.591284    22.033300    11.910394     4.079840   \n",
       "min       0.000000   107.000000    83.500000    48.000000    15.540000   \n",
       "25%       0.000000   206.000000   117.000000    75.000000    23.070000   \n",
       "50%       0.000000   234.000000   128.000000    82.000000    25.400000   \n",
       "75%       0.000000   263.000000   144.000000    90.000000    28.040000   \n",
       "max       1.000000   696.000000   295.000000   142.500000    56.800000   \n",
       "\n",
       "         heartRate      glucose         Risk  \n",
       "count  4239.000000  3852.000000  4240.000000  \n",
       "mean     75.878981    81.963655     0.310613  \n",
       "std      12.025348    23.954335     0.462799  \n",
       "min      44.000000    40.000000     0.000000  \n",
       "25%      68.000000    71.000000     0.000000  \n",
       "50%      75.000000    78.000000     0.000000  \n",
       "75%      83.000000    87.000000     1.000000  \n",
       "max     143.000000   394.000000     1.000000  "
      ]
     },
     "execution_count": 4,
     "metadata": {},
     "output_type": "execute_result"
    }
   ],
   "source": [
    "dataframe.describe()\n",
    "# Attributes:\n",
    "# male (gender)\n",
    "# age (age of the individual)\n",
    "# currentSmoker (smoking status)\n",
    "# cigsPerDay (number of cigarettes smoked per day)\n",
    "# BPMeds (blood pressure medication usage)\n",
    "# diabetes (diabetes status)\n",
    "# totChol (total cholesterol level)\n",
    "# sysBP (systolic blood pressure)\n",
    "# diaBP (diastolic blood pressure)\n",
    "# BMI (body mass index)\n",
    "# heartRate (heart rate)\n",
    "# glucose (glucose level)\n",
    "# Risk (hypertension risk status)\n"
   ]
  },
  {
   "cell_type": "code",
   "execution_count": 20,
   "metadata": {},
   "outputs": [],
   "source": [
    "X = dataframe.drop(columns=['Risk'], axis=1)\n",
    "y = dataframe['Risk']\n",
    "\n",
    "dataframe['BPMeds'] = dataframe['BPMeds'].fillna(0)\n",
    "\n"
   ]
  },
  {
   "cell_type": "code",
   "execution_count": 23,
   "metadata": {},
   "outputs": [
    {
     "data": {
      "text/plain": [
       "array([0, 1], dtype=int64)"
      ]
     },
     "execution_count": 23,
     "metadata": {},
     "output_type": "execute_result"
    }
   ],
   "source": [
    "currentSigsUnique = dataframe['currentSmoker'].unique()\n",
    "currentSigsUnique\n"
   ]
  },
  {
   "cell_type": "code",
   "execution_count": 24,
   "metadata": {},
   "outputs": [
    {
     "data": {
      "text/plain": [
       "array([ 0., 20., 30., 23., 15.,  9., 10.,  5., 35., 43.,  1., 40.,  3.,\n",
       "        2., nan, 12.,  4., 18., 25., 60., 14., 45.,  8., 50., 13., 11.,\n",
       "        7.,  6., 38., 29., 17., 16., 19., 70.])"
      ]
     },
     "execution_count": 24,
     "metadata": {},
     "output_type": "execute_result"
    }
   ],
   "source": [
    "cigsPerDay = dataframe['cigsPerDay'].unique()\n",
    "cigsPerDay\n"
   ]
  },
  {
   "cell_type": "code",
   "execution_count": 26,
   "metadata": {},
   "outputs": [
    {
     "data": {
      "text/plain": [
       "cigsPerDay\n",
       "0.0     2145\n",
       "20.0     734\n",
       "30.0     218\n",
       "15.0     210\n",
       "10.0     143\n",
       "9.0      130\n",
       "5.0      121\n",
       "3.0      100\n",
       "40.0      80\n",
       "1.0       67\n",
       "43.0      56\n",
       "25.0      55\n",
       "NaN       29\n",
       "35.0      22\n",
       "2.0       18\n",
       "6.0       18\n",
       "7.0       12\n",
       "8.0       11\n",
       "60.0      11\n",
       "4.0        9\n",
       "18.0       8\n",
       "17.0       7\n",
       "50.0       6\n",
       "23.0       6\n",
       "11.0       5\n",
       "45.0       3\n",
       "13.0       3\n",
       "12.0       3\n",
       "16.0       3\n",
       "14.0       2\n",
       "19.0       2\n",
       "38.0       1\n",
       "29.0       1\n",
       "70.0       1\n",
       "Name: count, dtype: int64"
      ]
     },
     "execution_count": 26,
     "metadata": {},
     "output_type": "execute_result"
    }
   ],
   "source": [
    "cigsValueCounts = dataframe['cigsPerDay'].value_counts(dropna=False)\n",
    "cigsValueCounts\n"
   ]
  },
  {
   "cell_type": "code",
   "execution_count": 27,
   "metadata": {},
   "outputs": [
    {
     "data": {
      "text/plain": [
       "cigsPerDay\n",
       "0.0     2174\n",
       "20.0     734\n",
       "30.0     218\n",
       "15.0     210\n",
       "10.0     143\n",
       "9.0      130\n",
       "5.0      121\n",
       "3.0      100\n",
       "40.0      80\n",
       "1.0       67\n",
       "43.0      56\n",
       "25.0      55\n",
       "35.0      22\n",
       "2.0       18\n",
       "6.0       18\n",
       "7.0       12\n",
       "8.0       11\n",
       "60.0      11\n",
       "4.0        9\n",
       "18.0       8\n",
       "17.0       7\n",
       "50.0       6\n",
       "23.0       6\n",
       "11.0       5\n",
       "45.0       3\n",
       "13.0       3\n",
       "12.0       3\n",
       "16.0       3\n",
       "14.0       2\n",
       "19.0       2\n",
       "38.0       1\n",
       "29.0       1\n",
       "70.0       1\n",
       "Name: count, dtype: int64"
      ]
     },
     "execution_count": 27,
     "metadata": {},
     "output_type": "execute_result"
    }
   ],
   "source": [
    "# CLEANED UP CIGS PER DAY COLUMN\n",
    "dataframe['cigsPerDay'] = dataframe['cigsPerDay'].fillna(0.0)\n",
    "cigsValueCounts = dataframe['cigsPerDay'].value_counts()\n",
    "cigsValueCounts\n"
   ]
  },
  {
   "cell_type": "code",
   "execution_count": 7,
   "metadata": {},
   "outputs": [
    {
     "data": {
      "text/plain": [
       "array([ 0.,  1., nan])"
      ]
     },
     "execution_count": 7,
     "metadata": {},
     "output_type": "execute_result"
    }
   ],
   "source": [
    "uniqueValuesBPMeds = dataframe['BPMeds'].unique()\n",
    "uniqueValuesBPMeds\n"
   ]
  },
  {
   "cell_type": "code",
   "execution_count": 8,
   "metadata": {},
   "outputs": [
    {
     "data": {
      "text/plain": [
       "BPMeds\n",
       "0.0    4063\n",
       "1.0     124\n",
       "NaN      53\n",
       "Name: count, dtype: int64"
      ]
     },
     "execution_count": 8,
     "metadata": {},
     "output_type": "execute_result"
    }
   ],
   "source": [
    "BPMedsValueCounts = dataframe['BPMeds'].value_counts(dropna=False)\n",
    "BPMedsValueCounts\n"
   ]
  },
  {
   "cell_type": "code",
   "execution_count": 9,
   "metadata": {},
   "outputs": [],
   "source": [
    "dataframe['BPMeds'] = dataframe['BPMeds'].fillna(0.0)\n"
   ]
  },
  {
   "cell_type": "code",
   "execution_count": 12,
   "metadata": {},
   "outputs": [
    {
     "data": {
      "text/plain": [
       "BPMeds\n",
       "0.0    4116\n",
       "1.0     124\n",
       "Name: count, dtype: int64"
      ]
     },
     "execution_count": 12,
     "metadata": {},
     "output_type": "execute_result"
    }
   ],
   "source": [
    "BPMedsValueCounts = dataframe['BPMeds'].value_counts()\n",
    "BPMedsValueCounts\n"
   ]
  },
  {
   "cell_type": "code",
   "execution_count": 14,
   "metadata": {},
   "outputs": [
    {
     "data": {
      "text/plain": [
       "diabetes\n",
       "0    4131\n",
       "1     109\n",
       "Name: count, dtype: int64"
      ]
     },
     "execution_count": 14,
     "metadata": {},
     "output_type": "execute_result"
    }
   ],
   "source": [
    "uniqueValuesDiabetes = dataframe['diabetes'].value_counts(dropna=False)\n",
    "uniqueValuesDiabetes\n"
   ]
  },
  {
   "cell_type": "code",
   "execution_count": 16,
   "metadata": {},
   "outputs": [
    {
     "data": {
      "text/plain": [
       "array([195., 250., 245., 225., 285., 228., 205., 313., 260., 254., 247.,\n",
       "       294., 332., 226., 221., 232., 291., 190., 185., 234., 215., 270.,\n",
       "       272., 295., 209., 175., 214., 257., 178., 233., 180., 243., 237.,\n",
       "        nan, 311., 208., 252., 261., 179., 194., 267., 216., 240., 266.,\n",
       "       255., 220., 235., 212., 223., 300., 302., 248., 200., 189., 258.,\n",
       "       202., 213., 183., 274., 170., 210., 197., 326., 188., 256., 244.,\n",
       "       193., 239., 296., 269., 275., 268., 265., 173., 273., 290., 278.,\n",
       "       264., 282., 241., 288., 222., 303., 246., 150., 187., 286., 154.,\n",
       "       279., 293., 259., 219., 230., 320., 312., 165., 159., 174., 242.,\n",
       "       301., 167., 308., 325., 229., 236., 224., 253., 464., 171., 186.,\n",
       "       227., 249., 176., 163., 191., 263., 196., 310., 164., 135., 238.,\n",
       "       207., 342., 287., 182., 352., 284., 217., 203., 262., 129., 155.,\n",
       "       323., 206., 283., 319., 304., 340., 328., 280., 368., 218., 276.,\n",
       "       339., 231., 198., 177., 201., 277., 184., 199., 168., 292., 305.,\n",
       "       306., 152., 161., 181., 251., 271., 370., 439., 145., 330., 157.,\n",
       "       398., 162., 314., 166., 160., 281., 289., 355., 307., 156., 329.,\n",
       "       143., 211., 298., 334., 192., 204., 318., 309., 353., 360., 335.,\n",
       "       158., 372., 346., 169., 140., 324., 600., 315., 392., 322., 149.,\n",
       "       137., 172., 317., 358., 153., 345., 391., 410., 297., 356., 338.,\n",
       "       107., 148., 366., 333., 327., 344., 126., 365., 362., 316., 144.,\n",
       "       351., 390., 321., 405., 359., 350., 336., 380., 299., 124., 371.,\n",
       "       113., 354., 382., 364., 341., 133., 367., 432., 337., 696., 363.,\n",
       "       331., 361., 453., 347., 373., 385., 119.])"
      ]
     },
     "execution_count": 16,
     "metadata": {},
     "output_type": "execute_result"
    }
   ],
   "source": [
    "uniqueValuesTotChol = dataframe['totChol'].unique()\n",
    "uniqueValuesTotChol\n"
   ]
  },
  {
   "cell_type": "code",
   "execution_count": 17,
   "metadata": {},
   "outputs": [
    {
     "data": {
      "text/plain": [
       "totChol\n",
       "240.0    85\n",
       "220.0    70\n",
       "260.0    62\n",
       "210.0    61\n",
       "232.0    59\n",
       "         ..\n",
       "126.0     1\n",
       "365.0     1\n",
       "362.0     1\n",
       "405.0     1\n",
       "119.0     1\n",
       "Name: count, Length: 249, dtype: int64"
      ]
     },
     "execution_count": 17,
     "metadata": {},
     "output_type": "execute_result"
    }
   ],
   "source": [
    "nanValuesTotChol = dataframe['totChol'].value_counts(dropna=False)\n",
    "nanValuesTotChol\n"
   ]
  },
  {
   "cell_type": "code",
   "execution_count": 18,
   "metadata": {},
   "outputs": [
    {
     "data": {
      "text/plain": [
       "totChol\n",
       "240.0    135\n",
       "220.0     70\n",
       "260.0     62\n",
       "210.0     61\n",
       "232.0     59\n",
       "        ... \n",
       "392.0      1\n",
       "405.0      1\n",
       "359.0      1\n",
       "398.0      1\n",
       "119.0      1\n",
       "Name: count, Length: 248, dtype: int64"
      ]
     },
     "execution_count": 18,
     "metadata": {},
     "output_type": "execute_result"
    }
   ],
   "source": [
    "# putting values to NaN totCholColumn\n",
    "dataframe['totChol'] = dataframe['totChol'].fillna(240.0)\n",
    "nanValuesTotChol = dataframe['totChol'].value_counts()\n",
    "nanValuesTotChol\n"
   ]
  },
  {
   "cell_type": "code",
   "execution_count": 19,
   "metadata": {},
   "outputs": [
    {
     "data": {
      "text/plain": [
       "array([195., 250., 245., 225., 285., 228., 205., 313., 260., 254., 247.,\n",
       "       294., 332., 226., 221., 232., 291., 190., 185., 234., 215., 270.,\n",
       "       272., 295., 209., 175., 214., 257., 178., 233., 180., 243., 237.,\n",
       "       240., 311., 208., 252., 261., 179., 194., 267., 216., 266., 255.,\n",
       "       220., 235., 212., 223., 300., 302., 248., 200., 189., 258., 202.,\n",
       "       213., 183., 274., 170., 210., 197., 326., 188., 256., 244., 193.,\n",
       "       239., 296., 269., 275., 268., 265., 173., 273., 290., 278., 264.,\n",
       "       282., 241., 288., 222., 303., 246., 150., 187., 286., 154., 279.,\n",
       "       293., 259., 219., 230., 320., 312., 165., 159., 174., 242., 301.,\n",
       "       167., 308., 325., 229., 236., 224., 253., 464., 171., 186., 227.,\n",
       "       249., 176., 163., 191., 263., 196., 310., 164., 135., 238., 207.,\n",
       "       342., 287., 182., 352., 284., 217., 203., 262., 129., 155., 323.,\n",
       "       206., 283., 319., 304., 340., 328., 280., 368., 218., 276., 339.,\n",
       "       231., 198., 177., 201., 277., 184., 199., 168., 292., 305., 306.,\n",
       "       152., 161., 181., 251., 271., 370., 439., 145., 330., 157., 398.,\n",
       "       162., 314., 166., 160., 281., 289., 355., 307., 156., 329., 143.,\n",
       "       211., 298., 334., 192., 204., 318., 309., 353., 360., 335., 158.,\n",
       "       372., 346., 169., 140., 324., 600., 315., 392., 322., 149., 137.,\n",
       "       172., 317., 358., 153., 345., 391., 410., 297., 356., 338., 107.,\n",
       "       148., 366., 333., 327., 344., 126., 365., 362., 316., 144., 351.,\n",
       "       390., 321., 405., 359., 350., 336., 380., 299., 124., 371., 113.,\n",
       "       354., 382., 364., 341., 133., 367., 432., 337., 696., 363., 331.,\n",
       "       361., 453., 347., 373., 385., 119.])"
      ]
     },
     "execution_count": 19,
     "metadata": {},
     "output_type": "execute_result"
    }
   ],
   "source": [
    "uniqueValuesTotChol = dataframe['totChol'].unique()\n",
    "uniqueValuesTotChol\n"
   ]
  },
  {
   "cell_type": "code",
   "execution_count": 20,
   "metadata": {},
   "outputs": [
    {
     "data": {
      "text/plain": [
       "array([106. , 121. , 127.5, 150. , 130. , 180. , 138. , 100. , 141.5,\n",
       "       162. , 133. , 131. , 142. , 124. , 114. , 140. , 112. , 122. ,\n",
       "       139. , 108. , 123.5, 148. , 132. , 137.5, 102. , 110. , 182. ,\n",
       "       115. , 134. , 147. , 124.5, 153.5, 160. , 153. , 111. , 116.5,\n",
       "       206. ,  96. , 179.5, 119. , 116. , 156.5, 145. , 143.5, 158. ,\n",
       "       157. , 126.5, 136. , 154. , 190. , 107. , 112.5, 164.5, 138.5,\n",
       "       155. , 151. , 152. , 179. , 113. , 200. , 132.5, 126. , 123. ,\n",
       "       141. , 135. , 187. , 127. , 160.5, 105. , 109. , 128. , 118. ,\n",
       "       109.5, 117.5, 149. , 180.5, 136.5, 212. , 125. , 191. , 121.5,\n",
       "       173. , 144. , 129.5, 117. , 144.5, 170. , 137. ,  94. , 119.5,\n",
       "       143. , 166. , 139.5, 177.5, 129. , 159. , 130.5, 107.5, 189. ,\n",
       "       168. , 197.5, 146. , 174. , 122.5,  98. , 131.5, 195. , 101. ,\n",
       "       158.5,  97. , 151.5,  97.5, 120. , 204. , 157.5, 140.5, 171. ,\n",
       "       215. ,  95. , 156. , 165. , 178. , 146.5, 113.5, 188. , 197. ,\n",
       "        90. , 152.5,  95.5, 209. , 162.5, 295. , 108.5, 103. , 145.5,\n",
       "       134.5, 115.5, 118.5, 174.5, 163. , 185. , 220. , 164. , 120.5,\n",
       "        98.5, 161. , 168.5, 176. , 163.5, 128.5, 167. , 205.5, 167.5,\n",
       "       172.5, 183. , 186. , 147.5, 175. , 142.5, 192. ,  96.5, 159.5,\n",
       "       177. , 102.5, 133.5, 244. , 104. , 213. , 199. , 184. , 198. ,\n",
       "       114.5, 125.5, 111.5, 105.5, 161.5, 171.5, 201. , 148.5, 169. ,\n",
       "       154.5,  93.5, 172. , 243. , 187.5,  99. , 181. , 100.5, 104.5,\n",
       "       135.5, 185.5, 103.5, 149.5, 182.5, 186.5, 217. , 196. , 193. ,\n",
       "       110.5, 155.5,  92. , 166.5, 202. , 150.5, 232. ,  85.5, 184.5,\n",
       "       235. , 205. , 169.5, 210. , 181.5, 188.5, 176.5,  92.5, 202.5,\n",
       "       191.5, 208. ,  83.5, 106.5, 170.5,  93. , 175.5, 207.5, 199.5,\n",
       "       101.5, 248. ,  99.5,  85. , 230. , 214. , 192.5, 194. , 207. ])"
      ]
     },
     "execution_count": 20,
     "metadata": {},
     "output_type": "execute_result"
    }
   ],
   "source": [
    "uniqueValuesSysBP = dataframe['sysBP'].unique()\n",
    "uniqueValuesSysBP\n"
   ]
  },
  {
   "cell_type": "code",
   "execution_count": null,
   "metadata": {},
   "outputs": [],
   "source": [
    "unique\n"
   ]
  },
  {
   "cell_type": "code",
   "execution_count": 21,
   "metadata": {},
   "outputs": [
    {
     "name": "stdout",
     "output_type": "stream",
     "text": [
      "Number of 1s:  124\n",
      "Number of 0s:  4116\n",
      "Number of NAs:  0\n"
     ]
    }
   ],
   "source": [
    "one_occurrence = 0\n",
    "zero_occurrence = 0\n",
    "na_occurrence = 0\n",
    "\n",
    "for row in X.BPMeds:\n",
    "    if row == 1:\n",
    "      one_occurrence += 1\n",
    "    elif row == 0:\n",
    "      zero_occurrence += 1\n",
    "    else:\n",
    "      na_occurrence += 1\n",
    "\n",
    "\n",
    "print(\"Number of 1s: \", one_occurrence)\n",
    "print(\"Number of 0s: \", zero_occurrence)\n",
    "print(\"Number of NAs: \", na_occurrence)\n"
   ]
  }
 ],
 "metadata": {
  "kernelspec": {
   "display_name": "Python 3",
   "language": "python",
   "name": "python3"
  },
  "language_info": {
   "codemirror_mode": {
    "name": "ipython",
    "version": 3
   },
   "file_extension": ".py",
   "mimetype": "text/x-python",
   "name": "python",
   "nbconvert_exporter": "python",
   "pygments_lexer": "ipython3",
   "version": "3.12.2"
  }
 },
 "nbformat": 4,
 "nbformat_minor": 2
}
